{
  "nbformat": 4,
  "nbformat_minor": 0,
  "metadata": {
    "colab": {
      "provenance": [],
      "include_colab_link": true
    },
    "kernelspec": {
      "name": "python3",
      "display_name": "Python 3"
    },
    "language_info": {
      "name": "python"
    }
  },
  "cells": [
    {
      "cell_type": "markdown",
      "metadata": {
        "id": "view-in-github",
        "colab_type": "text"
      },
      "source": [
        "<a href=\"https://colab.research.google.com/github/princegulia154/RL/blob/main/EXPERIMENT_8.ipynb\" target=\"_parent\"><img src=\"https://colab.research.google.com/assets/colab-badge.svg\" alt=\"Open In Colab\"/></a>"
      ]
    },
    {
      "cell_type": "code",
      "execution_count": null,
      "metadata": {
        "colab": {
          "base_uri": "https://localhost:8080/"
        },
        "id": "2V_p8YtNLp8M",
        "outputId": "bb3fa389-2d86-4fdc-88ae-db2ba23ba71a"
      },
      "outputs": [
        {
          "output_type": "stream",
          "name": "stdout",
          "text": [
            "[51.28054866 66.66516404 46.66516404]\n"
          ]
        }
      ],
      "source": [
        "import numpy as np\n",
        "\n",
        "# Define the transition probabilities, rewards, and discount factor\n",
        "P = np.array([\n",
        "    [[0.5, 0.5, 0.0], [0.0, 1.0, 0.0], [0.0, 0.0, 1.0]],\n",
        "    [[1.0, 0.0, 0.0], [0.5, 0.0, 0.5], [0.0, 1.0, 0.0]],\n",
        "    [[0.5, 0.5, 0.0], [0.0, 0.0, 1.0], [0.0, 1.0, 0.0]]\n",
        "])\n",
        "R = np.array([\n",
        "    [10, 0, 0],\n",
        "    [0, 0, 20],\n",
        "    [0, 0, 0]\n",
        "])\n",
        "gamma = 0.7\n",
        "\n",
        "# Initialize the value function\n",
        "V = np.zeros(3)\n",
        "\n",
        "# Perform value iteration\n",
        "for _ in range(1000):\n",
        "    V_new = np.max(R + gamma * np.sum(P * V, axis=2), axis=1)\n",
        "    if np.allclose(V, V_new):\n",
        "        break\n",
        "    V = V_new\n",
        "\n",
        "# Print the optimal value function\n",
        "print(V)"
      ]
    }
  ]
}