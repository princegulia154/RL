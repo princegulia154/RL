{
  "nbformat": 4,
  "nbformat_minor": 0,
  "metadata": {
    "colab": {
      "provenance": [],
      "authorship_tag": "ABX9TyPSXpbUftJclQv2DJ7p/MQ6",
      "include_colab_link": true
    },
    "kernelspec": {
      "name": "python3",
      "display_name": "Python 3"
    },
    "language_info": {
      "name": "python"
    }
  },
  "cells": [
    {
      "cell_type": "markdown",
      "metadata": {
        "id": "view-in-github",
        "colab_type": "text"
      },
      "source": [
        "<a href=\"https://colab.research.google.com/github/princegulia154/RL/blob/main/Untitled6.ipynb\" target=\"_parent\"><img src=\"https://colab.research.google.com/assets/colab-badge.svg\" alt=\"Open In Colab\"/></a>"
      ]
    },
    {
      "cell_type": "code",
      "execution_count": 9,
      "metadata": {
        "id": "OiwC0eIWS744"
      },
      "outputs": [],
      "source": [
        "class PowerSocket:\n",
        "    \"\"\" the base power socket class \"\"\"\n",
        "\n",
        "    def __init__(self, q):\n",
        "        self.q = q        # the true reward value\n",
        "        self.initialize() # reset the socket\n",
        "\n",
        "    def initialize(self):\n",
        "        self.Q = 0   # the estimate of this socket's reward value\n",
        "        self.n = 0   # the number of times this socket has been tried\n",
        "\n",
        "    def charge(self):\n",
        "        \"\"\" return a random amount of charge \"\"\"\n",
        "\n",
        "        # the reward is a guassian distribution with unit variance around the true\n",
        "        # value 'q'\n",
        "        value = np.random.randn() + self.q\n",
        "\n",
        "        # never allow a charge less than 0 to be returned\n",
        "        return 0 if value < 0 else value\n",
        "\n",
        "    def update(self,R):\n",
        "        \"\"\" update this socket after it has returned reward value 'R' \"\"\"\n",
        "\n",
        "        # increment the number of times this socket has been tried\n",
        "        self.n += 1\n",
        "\n",
        "        # the new estimate of the mean is calculated from the old estimate\n",
        "        self.Q = (1 - 1.0/self.n) * self.Q + (1.0/self.n) * R\n",
        "\n",
        "    def sample(self):\n",
        "        \"\"\" return an estimate of the socket's reward value \"\"\"\n",
        "        return self.Q\n"
      ]
    },
    {
      "cell_type": "code",
      "source": [
        "import random\n",
        "import numpy as np\n",
        "import pandas as pd\n",
        "import scipy.stats as stats\n",
        "import seaborn as sns\n",
        "import matplotlib\n",
        "import matplotlib.pyplot as plt\n",
        "from tqdm import tqdm\n",
        "from IPython.core.pylabtools import figsize\n"
      ],
      "metadata": {
        "id": "zxJz3IZHWDDG"
      },
      "execution_count": null,
      "outputs": []
    },
    {
      "cell_type": "code",
      "source": [
        "# create 5 sockets in a fixed order\n",
        "socket_order = [2,1,3,5,4]\n",
        "\n",
        "# create the sockets\n",
        "# - the mean value of each socket is derived from the socket order index, which is doubled to give\n",
        "#   distinct values and offset by 2 to keep the distribution above zero\n",
        "sockets = [PowerSocket((q*2)+2) for q in socket_order]\n"
      ],
      "metadata": {
        "id": "6i3tfTpRWXRz"
      },
      "execution_count": null,
      "outputs": []
    },
    {
      "cell_type": "code",
      "source": [
        "# save the number of sockets\n",
        "NUM_SOCKETS = len(socket_order)\n",
        "In [6]:\n",
        "# using a very large number of time steps just to create sufficient data to get smooth plots of socket output\n",
        "TOTAL_STEPS = 100000\n",
        "\n",
        "# rewards will contain the charge returned at all of the time steps for each socket\n",
        "rewards = np.zeros(shape=(TOTAL_STEPS,NUM_SOCKETS))\n",
        "\n",
        "# iterate through each of the sockets\n",
        "for socket_number,socket in enumerate(sockets):\n",
        "\n",
        "    # get charge from the socket for the defined number of steps\n",
        "    for t in range(TOTAL_STEPS): rewards[t,socket_number] = socket.charge()\n"
      ],
      "metadata": {
        "id": "9oT6USjCWc4T"
      },
      "execution_count": null,
      "outputs": []
    },
    {
      "cell_type": "code",
      "source": [
        "# plot the charge we got from the sockets\n",
        "plt.violinplot(rewards)\n",
        "plt.xlabel('Socket')\n",
        "plt.ylabel('Reward Distribution (seconds of charge)')\n",
        "plt.title('Violin plot of the reward distribution for each socket')\n",
        "plt.show()\n"
      ],
      "metadata": {
        "id": "rR8MKrcDWnzj"
      },
      "execution_count": null,
      "outputs": []
    },
    {
      "cell_type": "code",
      "source": [
        "# plot the charge we got from the sockets\n",
        "plt.violinplot(rewards)\n",
        "plt.xlabel('Socket')\n",
        "plt.ylabel('Reward Distribution (seconds of charge)')\n",
        "plt.title('Violin plot of the reward distribution for each socket')\n",
        "plt.show()\n"
      ],
      "metadata": {
        "id": "GkL4xIz_W81v"
      },
      "execution_count": null,
      "outputs": []
    },
    {
      "cell_type": "code",
      "source": [
        "class SocketTester():\n",
        "    \"\"\" create and test a set of sockets over a single test run \"\"\"\n",
        "\n",
        "    def __init__(self, socket=PowerSocket, socket_order=socket_order, multiplier=2, **kwargs ):\n",
        "\n",
        "        # create supplied socket type with a mean value defined by socket order\n",
        "        self.sockets = [socket((q*multiplier)+2, **kwargs) for q in socket_order]\n",
        "\n",
        "    def charge_and_update(self,socket_index):\n",
        "        \"\"\" charge from & update the specified socket and associated parameters \"\"\"\n",
        "\n",
        "        # charge from the chosen socket and update its mean reward value\n",
        "        reward = self.sockets[socket_index].charge()\n",
        "        self.sockets[socket_index].update(reward)\n",
        "\n",
        "    def select_socket( self, t ):\n",
        "        \"\"\" choose the socket with the current highest mean reward or arbitrarily\n",
        "            select a socket in the case of a tie \"\"\"\n",
        "        socket_index = random_argmax([socket.sample(t+1) for socket in self.sockets])\n",
        "        return socket_index\n"
      ],
      "metadata": {
        "id": "7gRY-8IgW-mR"
      },
      "execution_count": null,
      "outputs": []
    },
    {
      "cell_type": "code",
      "source": [],
      "metadata": {
        "id": "-36jA5zqXWrI"
      },
      "execution_count": null,
      "outputs": []
    }
  ]
}